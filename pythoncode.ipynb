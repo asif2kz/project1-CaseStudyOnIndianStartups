{
 "cells": [
  {
   "cell_type": "markdown",
   "id": "e36b0a23",
   "metadata": {},
   "source": [
    "# 01\n",
    "### Your Friend has developed the Product and he wants to establish the product startup and he is searching for a perfect location where getting the investment has a high chance. But due to its financial restriction, he can choose only between three locations -  Bangalore, Mumbai, and NCR. As a friend, you want to help your friend deciding the location. NCR include Gurgaon, Noida and New Delhi. Find the location where the most number of funding is done. That means, find the location where startups has received funding maximum number of times. Plot the bar graph between location and number of funding. Take city name \"Delhi\" as \"New Delhi\". Check the case-sensitiveness of cities also. That means, at some place instead of \"Bangalore\", \"bangalore\" is given. Take city name as \"Bangalore\". For few startups multiple locations are given, one Indian and one Foreign. Consider the startup if any one of the city lies in given locations."
   ]
  },
  {
   "cell_type": "markdown",
   "id": "6ac9da08",
   "metadata": {},
   "source": [
    "#### code"
   ]
  },
  {
   "cell_type": "code",
   "execution_count": 3,
   "id": "e09c0936",
   "metadata": {},
   "outputs": [
    {
     "data": {
      "image/png": "[encoded data removed]",
      "text/plain": [
       "<Figure size 432x288 with 1 Axes>"
      ]
     },
     "metadata": {
      "needs_background": "light"
     },
     "output_type": "display_data"
    },
    {
     "name": "stdout",
     "output_type": "stream",
     "text": [
      "NCR has got maximum funding\n"
     ]
    }
   ],
   "source": [
    "import pandas as pd\n",
    "import numpy as np\n",
    "import matplotlib.pyplot as plt\n",
    "def create(city):\n",
    "    l=[]\n",
    "    for i in city:\n",
    "        if '/' in i:\n",
    "            string=i.strip().split('/')\n",
    "            for j in string:\n",
    "                l.append(j.strip())\n",
    "        else:\n",
    "            l.append(i)\n",
    "    return l\n",
    "df=pd.read_csv(\"startup_funding.csv\")\n",
    "df=df[['CityLocation']].copy()\n",
    "##removed nan->>\n",
    "df=df[(df.CityLocation.isnull()==False)]\n",
    "\n",
    "##split multiple entry rows\n",
    "resl=pd.DataFrame(create(df.CityLocation))\n",
    "resl.replace(\"Delhi\",\"New Delhi\",inplace=True)\n",
    "resl.replace(\"bangalore\",\"Bangalore\",inplace=True)\n",
    "resl.replace(\"Gurgaon\",\"NCR\",inplace=True)\n",
    "resl.replace('Noida',\"NCR\",inplace=True)\n",
    "resl.replace('New Delhi',\"NCR\",inplace=True)\n",
    "\n",
    "##find the needed cities number of funding from res1\n",
    "resl=resl.value_counts()\n",
    "dictl={\"Bangalore\":resl.Bangalore,\"Mumbai\":resl.Mumbai,\"NCR\":resl.NCR}\n",
    "dictl=dict(sorted(dictl.items(),key=lambda x:x[1],reverse=True))\n",
    "plt.bar(dictl.keys(),dictl.values(),edgecolor=\"black\",width=0.4)\n",
    "plt.xlabel(\"Cities\")\n",
    "plt.ylabel(\"Number of times funding recieved\")\n",
    "plt.title(\"Bar-graph(city vs funding)\")\n",
    "plt.show()\n",
    "print(list(dictl)[0],\"has got maximum funding\")"
   ]
  },
  {
   "cell_type": "markdown",
   "id": "956173b1",
   "metadata": {},
   "source": [
    "### Explanation\n",
    "#### step1- import the needed libraries\n",
    "#### step2- read the dataframe using read_csv() keyword\n",
    "#### step3- from the dataframe take the column 'CityLocation' for doing calculations\n",
    "#### step4- remove nan values from column\n",
    "#### step5- if in a row there is multiple entries split those to seperate row entries using the create() function\n",
    "####             and return the resulting list\n",
    "#### step6- replace delhi and banglore with its correct spelling\n",
    "#### step7- use value_counts on the resultant dataframe to get count of each entries seperatly\n",
    "#### step8- from the result returned by value_counts take the 5 cities that we are intrested in\n",
    "#### step9- plot the bar graph using\"plt.bar()\" function in matplotlib library\n",
    "#### step10- take the maximum valued city name from the graph as the result."
   ]
  },
  {
   "cell_type": "markdown",
   "id": "42b43e9e",
   "metadata": {},
   "source": [
    "# 02"
   ]
  },
  {
   "cell_type": "markdown",
   "id": "0b27b238",
   "metadata": {},
   "source": [
    "### Even after trying for so many times, your friend’s startup could not find the investment. So you decided to take this matter in your hand and try to find the list of investors who probably can invest in your friend’s startup. Your list will increase the chance of your friend startup getting some initial investment by contacting these investors. Find the top 5 investors who have invested maximum number of times (consider repeat investments in one company also). In a startup, multiple investors might have invested. So consider each investor for that startup. Ignore undisclosed investors."
   ]
  },
  {
   "cell_type": "markdown",
   "id": "4ef7c218",
   "metadata": {},
   "source": [
    "### code"
   ]
  },
  {
   "cell_type": "code",
   "execution_count": 1,
   "id": "9496c724",
   "metadata": {},
   "outputs": [
    {
     "name": "stdout",
     "output_type": "stream",
     "text": [
      "Sequoia Capital\n",
      "Accel Partners\n",
      "Kalaari Capital\n",
      "SAIF Partners\n",
      "Indian Angel Network\n"
     ]
    },
    {
     "data": {
      "image/png": "[encoded data removed]",
      "text/plain": [
       "<Figure size 432x288 with 1 Axes>"
      ]
     },
     "metadata": {
      "needs_background": "light"
     },
     "output_type": "display_data"
    }
   ],
   "source": [
    "import pandas as pd\n",
    "import numpy as np\n",
    "import matplotlib.pyplot as plt\n",
    "df=pd.read_csv(\"startup_funding.csv\")\n",
    "df=df[['InvestorsName']].copy()\n",
    "df=df[(df.InvestorsName.isnull()==False)]\n",
    "def create(name):\n",
    "    l=[]\n",
    "    for i in name:\n",
    "        if ',' in i:\n",
    "            string=i.strip().split(',')\n",
    "            for j in string:\n",
    "                l.append(j.strip())\n",
    "        else:\n",
    "            l.append(i.strip())\n",
    "    return l\n",
    "resl=pd.DataFrame(create(df.InvestorsName))\n",
    "resl=resl.value_counts()\n",
    "x=[]\n",
    "y=[]\n",
    "for i in range(5):\n",
    "    print(str(resl.index[i]).replace(\"('\",\"\").replace(\"',)\",\"\"))\n",
    "    x.append(str(resl.index[i]).replace(\"('\",\"\").replace(\"',)\",\"\"))\n",
    "    y.append(resl.values[i])\n",
    "plt.bar(x,y,edgecolor=\"black\",width=0.5)\n",
    "plt.title(\"graph\")\n",
    "plt.xticks(rotation=90)\n",
    "plt.show()"
   ]
  },
  {
   "cell_type": "markdown",
   "id": "d5153783",
   "metadata": {},
   "source": [
    "### Explanation\n",
    "#### step1- import the needed libraries\n",
    "#### step2- read the dataframe using read_csv() keyword\n",
    "#### step3- from the dataframe take the column 'InvestorsName' for doing calculations\n",
    "#### step4- remove nan values from column\n",
    "#### step5- if in a row there is multiple entries split those to seperate row entries using the create() function\n",
    "####         and return the resulting list\n",
    "#### step6- After getting the cleaned data from create function apply 'value_counts()' function to get the entries and its count\n",
    "#### step7- as value_count returns the result by sorting based on the numerics print the first 5 entries from it which will be our result\n",
    "#### step8- plot the bar graph with these 5 entries."
   ]
  },
  {
   "cell_type": "markdown",
   "id": "4ebfa85e",
   "metadata": {},
   "source": [
    "# 03"
   ]
  },
  {
   "cell_type": "markdown",
   "id": "a0269df1",
   "metadata": {},
   "source": [
    "### After re-analysing the dataset you found out that some investors have invested in the same startup at different number of funding rounds. So before finalising the previous list, you want to improvise it by finding the top 5 investors who have invested in different number of startups. This list will be more helpful than your previous list in finding the investment for your friend startup. Find the top 5 investors who have invested maximum number of times in different companies. That means, if one investor has invested multiple times in one startup, count one for that company. There are many errors in startup names. Ignore correcting all, just handle the important ones - Ola, Flipkart, Oyo and Paytm."
   ]
  },
  {
   "cell_type": "markdown",
   "id": "148e690a",
   "metadata": {},
   "source": [
    "### code"
   ]
  },
  {
   "cell_type": "code",
   "execution_count": 3,
   "id": "d06adcd0",
   "metadata": {},
   "outputs": [
    {
     "name": "stderr",
     "output_type": "stream",
     "text": [
      "C:\\Users\\HP\\AppData\\Local\\Temp\\ipykernel_4624\\2427817384.py:8: FutureWarning: Passing a negative integer is deprecated in version 1.0 and will not be supported in future version. Instead, use None to not limit the column width.\n",
      "  pd.set_option('display.max_colwidth', -1)\n"
     ]
    },
    {
     "data": {
      "image/png": "[encoded data removed]",
      "text/plain": [
       "<Figure size 432x288 with 1 Axes>"
      ]
     },
     "metadata": {
      "needs_background": "light"
     },
     "output_type": "display_data"
    },
    {
     "name": "stdout",
     "output_type": "stream",
     "text": [
      "Sequoia Capital 48\n",
      "Accel Partners 47\n",
      "Kalaari Capital 41\n",
      "Indian Angel Network 40\n",
      "Blume Ventures 36\n"
     ]
    }
   ],
   "source": [
    "import pandas as pd\n",
    "import numpy as np\n",
    "import matplotlib.pyplot as plt\n",
    "df=pd.read_csv(\"startup_funding.csv\")\n",
    "pd.set_option('display.max_rows', None)\n",
    "pd.set_option('display.max_columns', None)\n",
    "pd.set_option('display.width', None)\n",
    "pd.set_option('display.max_colwidth', -1)\n",
    "\n",
    "def create(df):\n",
    "    needed=df.InvestorsName\n",
    "    start=df.StartupName\n",
    "    invn=[]\n",
    "    startup=[]\n",
    "    for i in range(needed.size):\n",
    "        if ',' in str(needed.iloc[i]).strip():\n",
    "            k=str(needed.iloc[i]).strip().split(',')\n",
    "            for j in k:\n",
    "                startup.append(start.iloc[i].strip())\n",
    "                invn.append(j.strip())\n",
    "        else:\n",
    "            startup.append(start.iloc[i].strip())\n",
    "            invn.append(needed.iloc[i].strip())\n",
    "    return startup,invn\n",
    "\n",
    "df=df[['InvestorsName','StartupName']]\n",
    "df=df[(df.InvestorsName.isnull()==False)]\n",
    "df[\"StartupName\"].replace(\"Oyo Rooms\",\"Oyo\",inplace=True)\n",
    "df[\"StartupName\"].replace(\"OyoRooms\",\"Oyo\",inplace=True)\n",
    "df[\"StartupName\"].replace(\"OYO Rooms\",\"Oyo\",inplace=True)\n",
    "df[\"StartupName\"].replace(\"Oyorooms\",\"Oyo\",inplace=True)\n",
    "df[\"StartupName\"].replace(\"Ola Cabs\",\"Ola\",inplace=True)\n",
    "df[\"StartupName\"].replace(\"Olacabs\",\"Ola\",inplace=True)\n",
    "df[\"StartupName\"].replace(\"Paytm Marketplace\",\"Paytm\",inplace=True)\n",
    "df[\"StartupName\"].replace(\"Flipkart.com\",\"Flipkart\",inplace=True)\n",
    "df=pd.DataFrame(create(df))\n",
    "df=df.T\n",
    "df.columns=[\"startup\",\"investor\"]\n",
    "resl=df.groupby('investor')['startup'].nunique().sort_values(ascending=False)[0:6]\n",
    "resl=resl.drop([''])\n",
    "plt.bar(resl.index,resl.values)\n",
    "plt.xticks(rotation=90)\n",
    "plt.show()\n",
    "for i in range(resl.size):\n",
    "    print(resl.index[i],resl.values[i])"
   ]
  },
  {
   "cell_type": "markdown",
   "id": "ec547edd",
   "metadata": {},
   "source": [
    "### Explanation"
   ]
  },
  {
   "cell_type": "markdown",
   "id": "94d8081b",
   "metadata": {},
   "source": [
    "#### step1-import the needed libraries\n",
    "#### step2-read the file\n",
    "#### step3-the (set_option) is used to display the entire dataframe for easy analysis if data\n",
    "#### step4-take the 'InvestorsName','StartupName' columns which is needed to solve the problem\n",
    "#### step5-remove nan values\n",
    "#### step6-some names are wrongly entered in the dataframe so correct it using replace() keyword\n",
    "#### step7-transpose the dataframe to change rows to columns and viceversa\n",
    "#### step8-give proper column names for the dataframe\n",
    "#### step9-group the data based on 'investorname' and out of that result find the unique entries in 'startup'\n",
    "####       column and map each investor name to this unique value count\n",
    "#### step10-drop the \"\"(empystring)[undisclosed investor] asper the question\n",
    "#### step11-print the needed entries from the result returned by groupby keyword\n",
    "#### step12-plot the bargraph with the data"
   ]
  },
  {
   "cell_type": "markdown",
   "id": "fedba466",
   "metadata": {},
   "source": [
    "# 04"
   ]
  },
  {
   "cell_type": "markdown",
   "id": "4810c4fa",
   "metadata": {},
   "source": [
    "### Even after putting so much effort in finding the probable investors, it didn't turn out to be helpful for your friend. So you went to your investor friend to understand the situation better and your investor friend explained to you about the different Investment Types and their features. This new information will be helpful in finding the right investor. Since your friend startup is at an early stage startup, the best-suited investment type would be - Seed Funding and Crowdfunding. Find the top 5 investors who have invested in a different number of startups and their investment type is Crowdfunding or Seed Funding. Correct spelling of investment types are - \"Private Equity\", \"Seed Funding\", \"Debt Funding\", and \"Crowd Funding\". Keep an eye for any spelling mistake. You can find this by printing unique values from this column. There are many errors in startup names. Ignore correcting all, just handle the important ones - Ola, Flipkart, Oyo and Paytm."
   ]
  },
  {
   "cell_type": "markdown",
   "id": "1511d6fe",
   "metadata": {},
   "source": [
    "### code"
   ]
  },
  {
   "cell_type": "code",
   "execution_count": 5,
   "id": "8e03bc56",
   "metadata": {},
   "outputs": [
    {
     "name": "stdout",
     "output_type": "stream",
     "text": [
      "Indian Angel Network 33\n",
      "Rajan Anandan 23\n",
      "LetsVenture 16\n",
      "Anupam Mittal 16\n",
      "Kunal Shah 14\n"
     ]
    },
    {
     "data": {
      "image/png": "[encoded data removed]",
      "text/plain": [
       "<Figure size 432x288 with 1 Axes>"
      ]
     },
     "metadata": {
      "needs_background": "light"
     },
     "output_type": "display_data"
    }
   ],
   "source": [
    "import pandas as pd\n",
    "import numpy as np\n",
    "import matplotlib.pyplot as plt\n",
    "df=pd.read_csv(\"startup_funding.csv\")\n",
    "df=df[['InvestorsName','StartupName','InvestmentType']].copy()\n",
    "df=df[(df.InvestorsName.isnull()==False) & (df.InvestmentType.isnull()==False) &(df.StartupName.isnull()==False)]\n",
    "def create(df):\n",
    "    name=df.InvestorsName\n",
    "    typel=df.InvestmentType\n",
    "    a=df.StartupName\n",
    "    investorname=[]\n",
    "    investtype=[]\n",
    "    startup=[]\n",
    "    for i in range(name.size):\n",
    "        if ',' in str(name.iloc[i]).strip():\n",
    "            string=str(name.iloc[i]).strip().split(',')\n",
    "            for j in string:\n",
    "                investorname.append(j.strip())\n",
    "                investtype.append(str(typel.iloc[i]).strip())\n",
    "                startup.append(str(a.iloc[i].strip()))\n",
    "        else:\n",
    "            investorname.append(str(name.iloc[i]).strip())\n",
    "            investtype.append(str(typel.iloc[i]).strip())\n",
    "            startup.append(str(a.iloc[i].strip()))\n",
    "    return investorname,investtype,startup\n",
    "resl=pd.DataFrame(create(df))\n",
    "resl=resl.T\n",
    "resl.columns=[\"name\",\"type\",\"company\"]\n",
    "resl.type.replace('PrivateEquity',\"Private Equity\",inplace=True)\n",
    "resl.type.replace('SeedFunding',\"Seed Funding\",inplace=True)\n",
    "resl.type.replace('Crowd funding',\"Crowd Funding\",inplace=True)\n",
    "\n",
    "resl[\"company\"].replace(\"Oyo Rooms\",\"Oyo\",inplace=True)\n",
    "resl[\"company\"].replace(\"OyoRooms\",\"Oyo\",inplace=True)\n",
    "resl[\"company\"].replace(\"OYO Rooms\",\"Oyo\",inplace=True)\n",
    "resl[\"company\"].replace(\"Oyorooms\",\"Oyo\",inplace=True)\n",
    "resl[\"company\"].replace(\"Ola Cabs\",\"Ola\",inplace=True)\n",
    "resl[\"company\"].replace(\"Olacabs\",\"Ola\",inplace=True)\n",
    "resl[\"company\"].replace(\"Paytm Marketplace\",\"Paytm\",inplace=True)\n",
    "resl[\"company\"].replace(\"Flipkart.com\",\"Flipkart\",inplace=True)\n",
    "\n",
    "\n",
    "resl=resl[(resl.type==\"Seed Funding\") | (resl.type==\"Crowd Funding\")]\n",
    "resl=resl.groupby(\"name\")[\"company\"].nunique().sort_values(ascending=False)[:8]\n",
    "resl=resl.drop([\"Undisclosed Investors\",\"Undisclosed investors\",''])\n",
    "for i in range(5):\n",
    "    print(resl.index[i],resl.values[i])\n",
    "plt.bar(resl.index,resl.values,edgecolor=\"black\",width=0.6)\n",
    "plt.xticks(rotation=45)\n",
    "plt.show()"
   ]
  },
  {
   "cell_type": "markdown",
   "id": "a94e8f7b",
   "metadata": {},
   "source": [
    "### Explanation"
   ]
  },
  {
   "cell_type": "markdown",
   "id": "51da9c89",
   "metadata": {},
   "source": [
    "#### step1-import the needed libraries\n",
    "#### step2-read the file\n",
    "#### step4-take the 'InvestorsName','InvestmentType' and 'startupname' columns which is needed to solve the problem\n",
    "#### step5-remove nan values\n",
    "#### step6-split the InvestorsName based on ',' and add each entries to unique rows done using create() function\n",
    "#### step7-transpose the dataframe to change rows to columns and viceversa\n",
    "#### step8-give proper column names for the dataframe\n",
    "#### step9-correct the spelling of 'investmenttype' column entries\n",
    "#### step10-correct the spelling of 'companyname' column entries\n",
    "#### step11-take the 'seedfunding' and 'crowdfunding' row entry from the cleaned dataframe\n",
    "#### step9-group the data based on 'investorname' and out of that result find the totalcount of unique elements in 'company'\n",
    "####       column and map each investor name to this count\n",
    "#### step10-drop the \"\"(empystring)[undisclosed investor] asper the question\n",
    "#### step11-print the needed entries from the result returned by groupby keyword\n",
    "#### step12-plot the bargraph with the data\n",
    "\n",
    "\n"
   ]
  },
  {
   "cell_type": "markdown",
   "id": "d53ee25f",
   "metadata": {},
   "source": [
    "# 05"
   ]
  },
  {
   "cell_type": "markdown",
   "id": "8f5dc8e0",
   "metadata": {},
   "source": [
    "### Due to your immense help, your friend startup successfully got seed funding and it is on the operational mode. Now your friend wants to expand his startup and he is looking for new investors for his startup. Now you again come as a saviour to help your friend and want to create a list of probable new new investors. Before moving forward you remember your investor friend advice that finding the investors by analysing the investment type. Since your friend startup is not in early phase it is in growth stage so the best-suited investment type is Private Equity. Find the top 5 investors who have invested in a different number of startups and their investment type is Private Equity. Correct spelling of investment types are - \"Private Equity\", \"Seed Funding\", \"Debt Funding\", and \"Crowd Funding\". Keep an eye for any spelling mistake. You can find this by printing unique values from this column. There are many errors in startup names. Ignore correcting all, just handle the important ones - Ola, Flipkart, Oyo and Paytm."
   ]
  },
  {
   "cell_type": "markdown",
   "id": "44c0cc50",
   "metadata": {},
   "source": [
    "### code"
   ]
  },
  {
   "cell_type": "code",
   "execution_count": 7,
   "id": "facfd203",
   "metadata": {},
   "outputs": [
    {
     "name": "stdout",
     "output_type": "stream",
     "text": [
      "Sequoia Capital 45\n",
      "Accel Partners 43\n",
      "Kalaari Capital 35\n",
      "Blume Ventures 27\n",
      "SAIF Partners 24\n"
     ]
    },
    {
     "data": {
      "image/png": "[encoded data removed]",
      "text/plain": [
       "<Figure size 432x288 with 1 Axes>"
      ]
     },
     "metadata": {
      "needs_background": "light"
     },
     "output_type": "display_data"
    }
   ],
   "source": [
    "import pandas as pd\n",
    "import numpy as np\n",
    "import matplotlib.pyplot as plt\n",
    "df=pd.read_csv(\"startup_funding.csv\")\n",
    "df=df[['InvestorsName','StartupName','InvestmentType']].copy()\n",
    "df=df[(df.InvestorsName.isnull()==False) & (df.InvestmentType.isnull()==False) &(df.StartupName.isnull()==False)]\n",
    "def create(df):\n",
    "    name=df.InvestorsName\n",
    "    typel=df.InvestmentType\n",
    "    a=df.StartupName\n",
    "    investorname=[]\n",
    "    investtype=[]\n",
    "    startup=[]\n",
    "    for i in range(name.size):\n",
    "        if ',' in str(name.iloc[i]).strip():\n",
    "            string=str(name.iloc[i]).strip().split(',')\n",
    "            for j in string:\n",
    "                investorname.append(j.strip())\n",
    "                investtype.append(str(typel.iloc[i]).strip())\n",
    "                startup.append(str(a.iloc[i].strip()))\n",
    "        else:\n",
    "            investorname.append(str(name.iloc[i]).strip())\n",
    "            investtype.append(str(typel.iloc[i]).strip())\n",
    "            startup.append(str(a.iloc[i].strip()))\n",
    "    return investorname,investtype,startup\n",
    "resl=pd.DataFrame(create(df))\n",
    "resl=resl.T\n",
    "resl.columns=[\"name\",\"type\",\"company\"]\n",
    "resl.type.replace('PrivateEquity',\"Private Equity\",inplace=True)\n",
    "resl.type.replace('SeedFunding',\"Seed Funding\",inplace=True)\n",
    "resl.type.replace('Crowd funding',\"Crowd Funding\",inplace=True)\n",
    "resl[\"company\"].replace(\"Oyo Rooms\",\"Oyo\",inplace=True)\n",
    "resl[\"company\"].replace(\"OyoRooms\",\"Oyo\",inplace=True)\n",
    "resl[\"company\"].replace(\"OYO Rooms\",\"Oyo\",inplace=True)\n",
    "resl[\"company\"].replace(\"Oyorooms\",\"Oyo\",inplace=True)\n",
    "resl[\"company\"].replace(\"Ola Cabs\",\"Ola\",inplace=True)\n",
    "resl[\"company\"].replace(\"Olacabs\",\"Ola\",inplace=True)\n",
    "resl[\"company\"].replace(\"Paytm Marketplace\",\"Paytm\",inplace=True)\n",
    "resl[\"company\"].replace(\"Flipkart.com\",\"Flipkart\",inplace=True)\n",
    "resl=resl[(resl.type==\"Private Equity\") ]\n",
    "resl=resl.groupby(\"name\")[\"company\"].nunique().sort_values(ascending=False)[:5]\n",
    "for i in range(5):\n",
    "    print(resl.index[i],resl.values[i])\n",
    "plt.bar(resl.index,resl.values,edgecolor=\"black\",width=0.6)\n",
    "plt.xticks(rotation=45)\n",
    "plt.show()"
   ]
  },
  {
   "cell_type": "markdown",
   "id": "3812ba62",
   "metadata": {},
   "source": [
    "### Explanation\n",
    "\n",
    "#### step1-import the needed libraries\n",
    "#### step2-read the file\n",
    "#### step4-take the 'InvestorsName','InvestmentType' and 'startupname' columns which is needed to solve the problem\n",
    "#### step5-remove nan values\n",
    "#### step6-split the InvestorsName based on ',' and add each entries to unique rows done using create() function\n",
    "#### step7-transpose the dataframe to change rows to columns and viceversa\n",
    "#### step8-give proper column names for the dataframe\n",
    "#### step9-correct the spelling of 'investmenttype' column entries\n",
    "#### step10-correct the spelling of 'companyname' column entries\n",
    "#### step11-take the 'private eqity'row entry from the cleaned dataframe\n",
    "#### step11-group the data based on 'investorname' and out of that result find the totalcount of unique elements in 'company'\n",
    "####              column and map each investor name to this count\n",
    "#### step12-print the needed entries from the result returned by groupby keyword\n",
    "#### step13-plot the bargraph with the data\n",
    "\n",
    "\n"
   ]
  }
 ],
 "metadata": {
  "kernelspec": {
   "display_name": "Python 3 (ipykernel)",
   "language": "python",
   "name": "python3"
  },
  "language_info": {
   "codemirror_mode": {
    "name": "ipython",
    "version": 3
   },
   "file_extension": ".py",
   "mimetype": "text/x-python",
   "name": "python",
   "nbconvert_exporter": "python",
   "pygments_lexer": "ipython3",
   "version": "3.9.12"
  }
 },
 "nbformat": 4,
 "nbformat_minor": 5
}
